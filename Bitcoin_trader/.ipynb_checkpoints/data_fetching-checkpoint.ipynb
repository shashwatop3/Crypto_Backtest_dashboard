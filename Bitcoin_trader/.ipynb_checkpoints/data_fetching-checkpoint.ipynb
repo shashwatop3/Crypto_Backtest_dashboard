{
 "cells": [
  {
   "cell_type": "code",
   "id": "initial_id",
   "metadata": {
    "collapsed": true,
    "ExecuteTime": {
     "end_time": "2025-01-28T17:09:39.567584Z",
     "start_time": "2025-01-28T17:09:39.550642Z"
    }
   },
   "source": [
    "import cryptocompare\n",
    "import pandas as pd\n",
    "from datetime import datetime, timedelta\n",
    "\n",
    "# Set your API key\n",
    "cryptocompare.cryptocompare._set_api_key_parameter('7d451b9ea64aa34ebc38090131f3eb462c56ed40e673f623468000093681c837')\n",
    "\n",
    "# Define the time range\n",
    "end_time = datetime.now()\n",
    "start_time = end_time - timedelta(days=2*365)\n",
    "\n",
    "# Fetch historical data\n",
    "data = []\n",
    "while start_time < end_time:\n",
    "    historical_data = cryptocompare.get_historical_price_minute('BTC', currency='USD', toTs=end_time, limit=2000)\n",
    "    if not historical_data:\n",
    "        break\n",
    "    data.extend(historical_data)\n",
    "    end_time = datetime.fromtimestamp(historical_data[0]['time'])\n",
    "\n",
    "# Convert to DataFrame\n",
    "df = pd.DataFrame(data)\n",
    "df['time'] = pd.to_datetime(df['time'], unit='s')\n",
    "\n",
    "# Filter data for 15-minute intervals\n",
    "df = df[df.index % 15 == 0]\n",
    "\n",
    "print(df)"
   ],
   "outputs": [
    {
     "ename": "ModuleNotFoundError",
     "evalue": "No module named 'cryptocompare'",
     "output_type": "error",
     "traceback": [
      "\u001B[0;31m---------------------------------------------------------------------------\u001B[0m",
      "\u001B[0;31mModuleNotFoundError\u001B[0m                       Traceback (most recent call last)",
      "Cell \u001B[0;32mIn[5], line 1\u001B[0m\n\u001B[0;32m----> 1\u001B[0m \u001B[38;5;28;01mimport\u001B[39;00m \u001B[38;5;21;01mcryptocompare\u001B[39;00m\n\u001B[1;32m      2\u001B[0m \u001B[38;5;28;01mimport\u001B[39;00m \u001B[38;5;21;01mpandas\u001B[39;00m \u001B[38;5;28;01mas\u001B[39;00m \u001B[38;5;21;01mpd\u001B[39;00m\n\u001B[1;32m      3\u001B[0m \u001B[38;5;28;01mfrom\u001B[39;00m \u001B[38;5;21;01mdatetime\u001B[39;00m \u001B[38;5;28;01mimport\u001B[39;00m datetime, timedelta\n",
      "\u001B[0;31mModuleNotFoundError\u001B[0m: No module named 'cryptocompare'"
     ]
    }
   ],
   "execution_count": 5
  },
  {
   "metadata": {
    "ExecuteTime": {
     "end_time": "2025-01-28T17:09:40.400011Z",
     "start_time": "2025-01-28T17:09:40.397908Z"
    }
   },
   "cell_type": "code",
   "source": "",
   "id": "a0ea156212ca1c98",
   "outputs": [],
   "execution_count": 5
  },
  {
   "metadata": {},
   "cell_type": "code",
   "outputs": [],
   "execution_count": null,
   "source": "",
   "id": "65d7a30689c59e74"
  }
 ],
 "metadata": {
  "kernelspec": {
   "display_name": "Python 3",
   "language": "python",
   "name": "python3"
  },
  "language_info": {
   "codemirror_mode": {
    "name": "ipython",
    "version": 2
   },
   "file_extension": ".py",
   "mimetype": "text/x-python",
   "name": "python",
   "nbconvert_exporter": "python",
   "pygments_lexer": "ipython2",
   "version": "2.7.6"
  }
 },
 "nbformat": 4,
 "nbformat_minor": 5
}
