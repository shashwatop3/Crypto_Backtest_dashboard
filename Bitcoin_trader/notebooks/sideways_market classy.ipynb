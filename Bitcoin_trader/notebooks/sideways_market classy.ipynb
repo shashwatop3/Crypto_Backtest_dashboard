{
 "cells": [
  {
   "cell_type": "code",
   "execution_count": 3,
   "metadata": {},
   "outputs": [],
   "source": [
    "import pandas as pd\n",
    "import numpy as np\n",
    "import matplotlib.pyplot as plt\n",
    "import seaborn as sns\n",
    "from sklearn.preprocessing import StandardScaler\n",
    "from keras.models import Sequential\n",
    "from keras.layers import Input, LSTM, Dense, Dropout\n",
    "from keras.models import Model\n",
    "from sklearn.preprocessing import StandardScaler, RobustScaler, MinMaxScaler\n",
    "import numpy as np\n",
    "from keras.regularizers import l2\n",
    "        "
   ]
  },
  {
   "cell_type": "code",
   "execution_count": 4,
   "metadata": {},
   "outputs": [
    {
     "name": "stdout",
     "output_type": "stream",
     "text": [
      "Num GPUs Available:  1\n"
     ]
    }
   ],
   "source": [
    "import tensorflow as tf\n",
    "print(\"Num GPUs Available: \", len(tf.config.list_physical_devices('GPU')))\n",
    "# tf.debugging.set_log_device_placement(False)"
   ]
  },
  {
   "cell_type": "code",
   "execution_count": 5,
   "metadata": {},
   "outputs": [],
   "source": [
    "df = pd.read_parquet('../data/btcusd_preprcd_with_regimes_and_classy.parquet')\n",
    "df = df[df['smoothed_regimes'] == 1]\n",
    "df.dropna(inplace=True)"
   ]
  },
  {
   "cell_type": "code",
   "execution_count": 6,
   "metadata": {},
   "outputs": [
    {
     "name": "stdout",
     "output_type": "stream",
     "text": [
      "<class 'pandas.core.frame.DataFrame'>\n",
      "Index: 257888 entries, 47 to 292662\n",
      "Data columns (total 14 columns):\n",
      " #   Column            Non-Null Count   Dtype  \n",
      "---  ------            --------------   -----  \n",
      " 0   open              257888 non-null  float64\n",
      " 1   high              257888 non-null  float64\n",
      " 2   low               257888 non-null  float64\n",
      " 3   close             257888 non-null  float64\n",
      " 4   BB_up_diff        257888 non-null  float64\n",
      " 5   BB_down_diff      257888 non-null  float64\n",
      " 6   OBV_Z             257888 non-null  float64\n",
      " 7   MACD_Histogram    257888 non-null  float64\n",
      " 8   RSI               257888 non-null  float64\n",
      " 9   CCI               257888 non-null  float64\n",
      " 10  predict_trend     257888 non-null  float64\n",
      " 11  regime            257888 non-null  float64\n",
      " 12  smoothed_regimes  257888 non-null  float64\n",
      " 13  classy            257888 non-null  int64  \n",
      "dtypes: float64(13), int64(1)\n",
      "memory usage: 29.5 MB\n",
      "None\n"
     ]
    },
    {
     "data": {
      "text/plain": [
       "open                0\n",
       "high                0\n",
       "low                 0\n",
       "close               0\n",
       "BB_up_diff          0\n",
       "BB_down_diff        0\n",
       "OBV_Z               0\n",
       "MACD_Histogram      0\n",
       "RSI                 0\n",
       "CCI                 0\n",
       "predict_trend       0\n",
       "regime              0\n",
       "smoothed_regimes    0\n",
       "classy              0\n",
       "dtype: int64"
      ]
     },
     "execution_count": 6,
     "metadata": {},
     "output_type": "execute_result"
    }
   ],
   "source": [
    "print(df.info())\n",
    "df.isna().sum()"
   ]
  },
  {
   "cell_type": "code",
   "execution_count": 7,
   "metadata": {},
   "outputs": [],
   "source": [
    "def preprocess_data(train_df):\n",
    "    # Calculate log returns for price columns\n",
    "    for col in ['open', 'high', 'low', 'close']:\n",
    "        train_df[f'{col}_log_return'] = np.log(train_df[col] / train_df[col].shift(1))\n",
    "    \n",
    "    # Create additional features\n",
    "    train_df['price_mean'] = train_df[['open', 'high', 'low', 'close']].mean(axis=1)\n",
    "    train_df['price_std'] = train_df[['open', 'high', 'low', 'close']].std(axis=1)\n",
    "    train_df['price_range'] = train_df['high'] - train_df['low']\n",
    "    \n",
    "    # Standard scaling for MACD and CCI\n",
    "    std_cols = ['MACD_Histogram', 'CCI']\n",
    "    std_scaler = StandardScaler().fit(train_df[std_cols])\n",
    "    train_df[std_cols] = std_scaler.transform(train_df[std_cols])\n",
    "    \n",
    "    # Normalize RSI to focus on the 30–70 range\n",
    "    train_df['RSI'] = np.clip(train_df['RSI'], 30, 70)\n",
    "    rsi_scaler = MinMaxScaler(feature_range=(0, 1)).fit(train_df[['RSI']])\n",
    "    train_df['RSI'] = rsi_scaler.transform(train_df[['RSI']])\n",
    "    \n",
    "    # Add lagged features for RSI, MACD, CCI, and predict_trend\n",
    "    for col in ['RSI', 'MACD_Histogram', 'CCI', 'predict_trend']:\n",
    "        for lag in range(1, 10):  # Add 4 lagged intervals\n",
    "            train_df[f'{col}_lag_{lag}'] = train_df[col].shift(lag)\n",
    "    \n",
    "    # Drop rows with NaN values (caused by lagging)\n",
    "    train_df.dropna(inplace=True)\n",
    "    \n",
    "    return train_df"
   ]
  },
  {
   "cell_type": "code",
   "execution_count": 8,
   "metadata": {},
   "outputs": [],
   "source": [
    "df = preprocess_data(df)\n",
    "# sc = StandardScaler()\n",
    "# df['predict_trend'] = sc.fit_transform(df[['predict_trend']])"
   ]
  },
  {
   "cell_type": "code",
   "execution_count": 9,
   "metadata": {},
   "outputs": [
    {
     "data": {
      "text/html": [
       "<div>\n",
       "<style scoped>\n",
       "    .dataframe tbody tr th:only-of-type {\n",
       "        vertical-align: middle;\n",
       "    }\n",
       "\n",
       "    .dataframe tbody tr th {\n",
       "        vertical-align: top;\n",
       "    }\n",
       "\n",
       "    .dataframe thead th {\n",
       "        text-align: right;\n",
       "    }\n",
       "</style>\n",
       "<table border=\"1\" class=\"dataframe\">\n",
       "  <thead>\n",
       "    <tr style=\"text-align: right;\">\n",
       "      <th></th>\n",
       "      <th>open</th>\n",
       "      <th>high</th>\n",
       "      <th>low</th>\n",
       "      <th>close</th>\n",
       "      <th>BB_up_diff</th>\n",
       "      <th>BB_down_diff</th>\n",
       "      <th>OBV_Z</th>\n",
       "      <th>MACD_Histogram</th>\n",
       "      <th>RSI</th>\n",
       "      <th>CCI</th>\n",
       "      <th>...</th>\n",
       "      <th>CCI_lag_9</th>\n",
       "      <th>predict_trend_lag_1</th>\n",
       "      <th>predict_trend_lag_2</th>\n",
       "      <th>predict_trend_lag_3</th>\n",
       "      <th>predict_trend_lag_4</th>\n",
       "      <th>predict_trend_lag_5</th>\n",
       "      <th>predict_trend_lag_6</th>\n",
       "      <th>predict_trend_lag_7</th>\n",
       "      <th>predict_trend_lag_8</th>\n",
       "      <th>predict_trend_lag_9</th>\n",
       "    </tr>\n",
       "  </thead>\n",
       "  <tbody>\n",
       "    <tr>\n",
       "      <th>56</th>\n",
       "      <td>658.74</td>\n",
       "      <td>665.00</td>\n",
       "      <td>655.79</td>\n",
       "      <td>659.10</td>\n",
       "      <td>-2.529762</td>\n",
       "      <td>-20.448238</td>\n",
       "      <td>1.223019</td>\n",
       "      <td>0.042641</td>\n",
       "      <td>1.0</td>\n",
       "      <td>1.771480</td>\n",
       "      <td>...</td>\n",
       "      <td>0.585970</td>\n",
       "      <td>-0.259333</td>\n",
       "      <td>10.044667</td>\n",
       "      <td>6.076667</td>\n",
       "      <td>4.018000</td>\n",
       "      <td>2.892000</td>\n",
       "      <td>1.628667</td>\n",
       "      <td>-0.025333</td>\n",
       "      <td>-1.264000</td>\n",
       "      <td>1.648667</td>\n",
       "    </tr>\n",
       "    <tr>\n",
       "      <th>57</th>\n",
       "      <td>660.00</td>\n",
       "      <td>665.51</td>\n",
       "      <td>654.36</td>\n",
       "      <td>657.43</td>\n",
       "      <td>0.514464</td>\n",
       "      <td>-18.609464</td>\n",
       "      <td>0.380160</td>\n",
       "      <td>0.043436</td>\n",
       "      <td>1.0</td>\n",
       "      <td>1.246238</td>\n",
       "      <td>...</td>\n",
       "      <td>0.948745</td>\n",
       "      <td>-1.436667</td>\n",
       "      <td>-0.259333</td>\n",
       "      <td>10.044667</td>\n",
       "      <td>6.076667</td>\n",
       "      <td>4.018000</td>\n",
       "      <td>2.892000</td>\n",
       "      <td>1.628667</td>\n",
       "      <td>-0.025333</td>\n",
       "      <td>-1.264000</td>\n",
       "    </tr>\n",
       "    <tr>\n",
       "      <th>58</th>\n",
       "      <td>656.48</td>\n",
       "      <td>658.10</td>\n",
       "      <td>655.95</td>\n",
       "      <td>657.90</td>\n",
       "      <td>1.401129</td>\n",
       "      <td>-19.055129</td>\n",
       "      <td>0.393569</td>\n",
       "      <td>0.042370</td>\n",
       "      <td>1.0</td>\n",
       "      <td>1.100578</td>\n",
       "      <td>...</td>\n",
       "      <td>0.638667</td>\n",
       "      <td>0.006667</td>\n",
       "      <td>-1.436667</td>\n",
       "      <td>-0.259333</td>\n",
       "      <td>10.044667</td>\n",
       "      <td>6.076667</td>\n",
       "      <td>4.018000</td>\n",
       "      <td>2.892000</td>\n",
       "      <td>1.628667</td>\n",
       "      <td>-0.025333</td>\n",
       "    </tr>\n",
       "    <tr>\n",
       "      <th>59</th>\n",
       "      <td>657.06</td>\n",
       "      <td>658.08</td>\n",
       "      <td>656.80</td>\n",
       "      <td>657.98</td>\n",
       "      <td>2.429928</td>\n",
       "      <td>-18.799928</td>\n",
       "      <td>0.415015</td>\n",
       "      <td>0.039361</td>\n",
       "      <td>1.0</td>\n",
       "      <td>0.942582</td>\n",
       "      <td>...</td>\n",
       "      <td>0.458955</td>\n",
       "      <td>-1.070000</td>\n",
       "      <td>0.006667</td>\n",
       "      <td>-1.436667</td>\n",
       "      <td>-0.259333</td>\n",
       "      <td>10.044667</td>\n",
       "      <td>6.076667</td>\n",
       "      <td>4.018000</td>\n",
       "      <td>2.892000</td>\n",
       "      <td>1.628667</td>\n",
       "    </tr>\n",
       "    <tr>\n",
       "      <th>60</th>\n",
       "      <td>657.39</td>\n",
       "      <td>659.70</td>\n",
       "      <td>657.39</td>\n",
       "      <td>658.88</td>\n",
       "      <td>2.777287</td>\n",
       "      <td>-19.873287</td>\n",
       "      <td>0.586010</td>\n",
       "      <td>0.036849</td>\n",
       "      <td>1.0</td>\n",
       "      <td>0.927737</td>\n",
       "      <td>...</td>\n",
       "      <td>0.495102</td>\n",
       "      <td>-2.020667</td>\n",
       "      <td>-1.070000</td>\n",
       "      <td>0.006667</td>\n",
       "      <td>-1.436667</td>\n",
       "      <td>-0.259333</td>\n",
       "      <td>10.044667</td>\n",
       "      <td>6.076667</td>\n",
       "      <td>4.018000</td>\n",
       "      <td>2.892000</td>\n",
       "    </tr>\n",
       "  </tbody>\n",
       "</table>\n",
       "<p>5 rows × 57 columns</p>\n",
       "</div>"
      ],
      "text/plain": [
       "      open    high     low   close  BB_up_diff  BB_down_diff     OBV_Z  \\\n",
       "56  658.74  665.00  655.79  659.10   -2.529762    -20.448238  1.223019   \n",
       "57  660.00  665.51  654.36  657.43    0.514464    -18.609464  0.380160   \n",
       "58  656.48  658.10  655.95  657.90    1.401129    -19.055129  0.393569   \n",
       "59  657.06  658.08  656.80  657.98    2.429928    -18.799928  0.415015   \n",
       "60  657.39  659.70  657.39  658.88    2.777287    -19.873287  0.586010   \n",
       "\n",
       "    MACD_Histogram  RSI       CCI  ...  CCI_lag_9  predict_trend_lag_1  \\\n",
       "56        0.042641  1.0  1.771480  ...   0.585970            -0.259333   \n",
       "57        0.043436  1.0  1.246238  ...   0.948745            -1.436667   \n",
       "58        0.042370  1.0  1.100578  ...   0.638667             0.006667   \n",
       "59        0.039361  1.0  0.942582  ...   0.458955            -1.070000   \n",
       "60        0.036849  1.0  0.927737  ...   0.495102            -2.020667   \n",
       "\n",
       "    predict_trend_lag_2  predict_trend_lag_3  predict_trend_lag_4  \\\n",
       "56            10.044667             6.076667             4.018000   \n",
       "57            -0.259333            10.044667             6.076667   \n",
       "58            -1.436667            -0.259333            10.044667   \n",
       "59             0.006667            -1.436667            -0.259333   \n",
       "60            -1.070000             0.006667            -1.436667   \n",
       "\n",
       "    predict_trend_lag_5  predict_trend_lag_6  predict_trend_lag_7  \\\n",
       "56             2.892000             1.628667            -0.025333   \n",
       "57             4.018000             2.892000             1.628667   \n",
       "58             6.076667             4.018000             2.892000   \n",
       "59            10.044667             6.076667             4.018000   \n",
       "60            -0.259333            10.044667             6.076667   \n",
       "\n",
       "    predict_trend_lag_8  predict_trend_lag_9  \n",
       "56            -1.264000             1.648667  \n",
       "57            -0.025333            -1.264000  \n",
       "58             1.628667            -0.025333  \n",
       "59             2.892000             1.628667  \n",
       "60             4.018000             2.892000  \n",
       "\n",
       "[5 rows x 57 columns]"
      ]
     },
     "execution_count": 9,
     "metadata": {},
     "output_type": "execute_result"
    }
   ],
   "source": [
    "df.head()"
   ]
  },
  {
   "cell_type": "code",
   "execution_count": 10,
   "metadata": {},
   "outputs": [],
   "source": [
    "y = df['classy']\n",
    "x = df.drop(columns=['predict_trend', 'classy'])\n",
    "x_train = x[:int(len(x)*0.6)]\n",
    "y_train = y[:int(len(x)*0.6)]\n",
    "x_val = x[int(len(x)*0.6):int(len(x)*0.8)]\n",
    "y_val = y[int(len(x)*0.6):int(len(x)*0.8)]\n",
    "x_test = x[int(len(x)*0.8):]\n",
    "y_test = y[int(len(x)*0.8):]"
   ]
  },
  {
   "cell_type": "code",
   "execution_count": 11,
   "metadata": {},
   "outputs": [],
   "source": [
    "x_train = np.nan_to_num(x_train, nan=0.0, posinf=0.0, neginf=0.0)\n",
    "y_train = np.nan_to_num(y_train, nan=0.0, posinf=0.0, neginf=0.0)\n",
    "x_val = np.nan_to_num(x_val, nan=0.0, posinf=0.0, neginf=0.0)\n",
    "y_val = np.nan_to_num(y_val, nan=0.0, posinf=0.0, neginf=0.0)"
   ]
  },
  {
   "cell_type": "code",
   "execution_count": 12,
   "metadata": {},
   "outputs": [
    {
     "data": {
      "text/plain": [
       "(154727,)"
      ]
     },
     "execution_count": 12,
     "metadata": {},
     "output_type": "execute_result"
    }
   ],
   "source": [
    "y_train.shape"
   ]
  },
  {
   "cell_type": "code",
   "execution_count": 13,
   "metadata": {},
   "outputs": [
    {
     "data": {
      "image/png": "[encoded data removed]",
      "text/plain": [
       "<Figure size 640x480 with 1 Axes>"
      ]
     },
     "metadata": {},
     "output_type": "display_data"
    }
   ],
   "source": [
    "sns.lineplot(data=y_train, color='blue')\n",
    "\n",
    "plt.title('Train data')\n",
    "plt.xlabel('Time')\n",
    "plt.ylabel('Trend')\n",
    "plt.show()\n"
   ]
  },
  {
   "cell_type": "code",
   "execution_count": 14,
   "metadata": {},
   "outputs": [],
   "source": [
    "x_train = x_train.reshape(x_train.shape[0], x_train.shape[1], 1)\n",
    "x_val = x_val.reshape(x_val.shape[0], x_val.shape[1], 1)"
   ]
  },
  {
   "cell_type": "code",
   "execution_count": 15,
   "metadata": {},
   "outputs": [
    {
     "name": "stderr",
     "output_type": "stream",
     "text": [
      "2025-03-21 01:09:17.447331: I metal_plugin/src/device/metal_device.cc:1154] Metal device set to: Apple M2\n",
      "2025-03-21 01:09:17.447356: I metal_plugin/src/device/metal_device.cc:296] systemMemory: 16.00 GB\n",
      "2025-03-21 01:09:17.447370: I metal_plugin/src/device/metal_device.cc:313] maxCacheSize: 5.33 GB\n",
      "2025-03-21 01:09:17.447385: I tensorflow/core/common_runtime/pluggable_device/pluggable_device_factory.cc:305] Could not identify NUMA node of platform GPU ID 0, defaulting to 0. Your kernel may not have been built with NUMA support.\n",
      "2025-03-21 01:09:17.447395: I tensorflow/core/common_runtime/pluggable_device/pluggable_device_factory.cc:271] Created TensorFlow device (/job:localhost/replica:0/task:0/device:GPU:0 with 0 MB memory) -> physical PluggableDevice (device: 0, name: METAL, pci bus id: <undefined>)\n",
      "/opt/anaconda3/envs/Universal/lib/python3.9/site-packages/keras/src/layers/rnn/rnn.py:204: UserWarning: Do not pass an `input_shape`/`input_dim` argument to a layer. When using Sequential models, prefer using an `Input(shape)` object as the first layer in the model instead.\n",
      "  super().__init__(**kwargs)\n"
     ]
    }
   ],
   "source": [
    "from keras.regularizers import l2\n",
    "\n",
    "model = Sequential()\n",
    "model.add(LSTM(60, input_shape=(x_train.shape[1], x_train.shape[2]), return_sequences=False))\n",
    "# model.add(LSTM(64, activation='tanh', return_sequences=True))\n",
    "# model.add(LSTM(16, activation='tanh', return_sequences=False))\n",
    "# model.add(Dense(16, activation='relu'))\n",
    "model.add(Dense(3, activation='softmax'))\n",
    "\n",
    "# Compile the model\n",
    "model.compile(optimizer='adam', loss='categorical_crossentropy', metrics=['accuracy'])\n"
   ]
  },
  {
   "cell_type": "code",
   "execution_count": 16,
   "metadata": {},
   "outputs": [
    {
     "name": "stdout",
     "output_type": "stream",
     "text": [
      "Epoch 1/5\n"
     ]
    },
    {
     "name": "stderr",
     "output_type": "stream",
     "text": [
      "2025-03-21 01:09:17.954168: I tensorflow/core/grappler/optimizers/custom_graph_optimizer_registry.cc:117] Plugin optimizer for device_type GPU is enabled.\n",
      "2025-03-21 01:09:17.956083: E tensorflow/core/grappler/optimizers/meta_optimizer.cc:961] PluggableGraphOptimizer failed: INVALID_ARGUMENT: Failed to deserialize the `graph_buf`.\n"
     ]
    },
    {
     "name": "stdout",
     "output_type": "stream",
     "text": [
      "\u001b[1m4836/4836\u001b[0m \u001b[32m━━━━━━━━━━━━━━━━━━━━\u001b[0m\u001b[37m\u001b[0m \u001b[1m0s\u001b[0m 14ms/step - accuracy: 0.7371 - loss: 0.6097"
     ]
    },
    {
     "name": "stderr",
     "output_type": "stream",
     "text": [
      "2025-03-21 01:10:26.153347: E tensorflow/core/grappler/optimizers/meta_optimizer.cc:961] PluggableGraphOptimizer failed: INVALID_ARGUMENT: Failed to deserialize the `graph_buf`.\n"
     ]
    },
    {
     "name": "stdout",
     "output_type": "stream",
     "text": [
      "\u001b[1m4836/4836\u001b[0m \u001b[32m━━━━━━━━━━━━━━━━━━━━\u001b[0m\u001b[37m\u001b[0m \u001b[1m82s\u001b[0m 17ms/step - accuracy: 0.7371 - loss: 0.6097 - val_accuracy: 0.5817 - val_loss: 0.9035\n",
      "Epoch 2/5\n",
      "\u001b[1m4836/4836\u001b[0m \u001b[32m━━━━━━━━━━━━━━━━━━━━\u001b[0m\u001b[37m\u001b[0m \u001b[1m87s\u001b[0m 18ms/step - accuracy: 0.7749 - loss: 0.5260 - val_accuracy: 0.6136 - val_loss: 0.8596\n",
      "Epoch 3/5\n",
      "\u001b[1m4836/4836\u001b[0m \u001b[32m━━━━━━━━━━━━━━━━━━━━\u001b[0m\u001b[37m\u001b[0m \u001b[1m87s\u001b[0m 18ms/step - accuracy: 0.7870 - loss: 0.4931 - val_accuracy: 0.6450 - val_loss: 0.7809\n",
      "Epoch 4/5\n",
      "\u001b[1m4836/4836\u001b[0m \u001b[32m━━━━━━━━━━━━━━━━━━━━\u001b[0m\u001b[37m\u001b[0m \u001b[1m87s\u001b[0m 18ms/step - accuracy: 0.8009 - loss: 0.4660 - val_accuracy: 0.6617 - val_loss: 0.7563\n",
      "Epoch 5/5\n",
      "\u001b[1m4836/4836\u001b[0m \u001b[32m━━━━━━━━━━━━━━━━━━━━\u001b[0m\u001b[37m\u001b[0m \u001b[1m89s\u001b[0m 18ms/step - accuracy: 0.8075 - loss: 0.4502 - val_accuracy: 0.6554 - val_loss: 0.7495\n"
     ]
    },
    {
     "data": {
      "text/plain": [
       "<keras.src.callbacks.history.History at 0x320642b20>"
      ]
     },
     "execution_count": 16,
     "metadata": {},
     "output_type": "execute_result"
    }
   ],
   "source": [
    "from keras.utils import to_categorical\n",
    "\n",
    "# One-hot encode the labels\n",
    "y_train_one_hot = to_categorical(y_train, num_classes=3)\n",
    "y_val_one_hot = to_categorical(y_val, num_classes=3)\n",
    "y_test_one_hot = to_categorical(y_test, num_classes=3)\n",
    "\n",
    "# Train the model with one-hot encoded labels\n",
    "model.fit(x_train, y_train_one_hot, batch_size=32, epochs=5, validation_data=(x_val, y_val_one_hot), verbose=1)"
   ]
  },
  {
   "cell_type": "code",
   "execution_count": 17,
   "metadata": {},
   "outputs": [
    {
     "name": "stderr",
     "output_type": "stream",
     "text": [
      "WARNING:absl:You are saving your model as an HDF5 file via `model.save()` or `keras.saving.save_model(model)`. This file format is considered legacy. We recommend using instead the native Keras format, e.g. `model.save('my_model.keras')` or `keras.saving.save_model(model, 'my_model.keras')`. \n"
     ]
    }
   ],
   "source": [
    "model.save('../models/sideways_market_classy_model2.h5')"
   ]
  },
  {
   "cell_type": "code",
   "execution_count": 18,
   "metadata": {},
   "outputs": [
    {
     "name": "stdout",
     "output_type": "stream",
     "text": [
      "\u001b[1m   1/1612\u001b[0m \u001b[37m━━━━━━━━━━━━━━━━━━━━\u001b[0m \u001b[1m2:21\u001b[0m 88ms/step"
     ]
    },
    {
     "name": "stderr",
     "output_type": "stream",
     "text": [
      "2025-03-21 01:16:29.530723: E tensorflow/core/grappler/optimizers/meta_optimizer.cc:961] PluggableGraphOptimizer failed: INVALID_ARGUMENT: Failed to deserialize the `graph_buf`.\n"
     ]
    },
    {
     "name": "stdout",
     "output_type": "stream",
     "text": [
      "\u001b[1m1612/1612\u001b[0m \u001b[32m━━━━━━━━━━━━━━━━━━━━\u001b[0m\u001b[37m\u001b[0m \u001b[1m5s\u001b[0m 3ms/step\n"
     ]
    }
   ],
   "source": [
    "# from keras.metrics import MeanSquaredError\n",
    "\n",
    "# custom_objects = {'mse': MeanSquaredError()}\n",
    "\n",
    "# model_n = tf.keras.models.load_model('../models/sideways_market_model.h5', custom_objects=custom_objects)\n",
    "\n",
    "y_pred = model.predict(x_test)\n"
   ]
  },
  {
   "cell_type": "code",
   "execution_count": 19,
   "metadata": {},
   "outputs": [],
   "source": [
    "y_test.reset_index(inplace=True, drop=True)"
   ]
  },
  {
   "cell_type": "code",
   "execution_count": 20,
   "metadata": {},
   "outputs": [
    {
     "name": "stdout",
     "output_type": "stream",
     "text": [
      "[0.01691577 0.97244555 0.0106387 ]\n",
      "1\n"
     ]
    }
   ],
   "source": [
    "print(y_pred[0])\n",
    "print(y_test[0])\n"
   ]
  },
  {
   "cell_type": "code",
   "execution_count": 21,
   "metadata": {},
   "outputs": [],
   "source": [
    "# y_pred = sc.inverse_transform(np.array(y_pred).reshape(-1, 1))\n",
    "# y_test = sc.inverse_transform(np.array(y_test).reshape(-1, 1))"
   ]
  },
  {
   "cell_type": "code",
   "execution_count": 22,
   "metadata": {},
   "outputs": [
    {
     "name": "stdout",
     "output_type": "stream",
     "text": [
      "y_pred shape: (51576, 3)\n",
      "y_val_one_hot shape: (51576, 3)\n"
     ]
    }
   ],
   "source": [
    "print(\"y_pred shape:\", y_pred.shape)\n",
    "print(\"y_val_one_hot shape:\", y_val_one_hot.shape)"
   ]
  },
  {
   "cell_type": "code",
   "execution_count": 23,
   "metadata": {},
   "outputs": [
    {
     "name": "stdout",
     "output_type": "stream",
     "text": [
      "Accuracy: 0.3098921979215139\n",
      "Classification Report:\n",
      "              precision    recall  f1-score   support\n",
      "\n",
      "    Class -1       0.15      0.10      0.12     14385\n",
      "     Class 0       0.36      0.34      0.35     18747\n",
      "     Class 1       0.34      0.44      0.38     18444\n",
      "\n",
      "    accuracy                           0.31     51576\n",
      "   macro avg       0.28      0.29      0.28     51576\n",
      "weighted avg       0.29      0.31      0.30     51576\n",
      "\n"
     ]
    }
   ],
   "source": [
    "from sklearn.metrics import classification_report, accuracy_score\n",
    "import numpy as np\n",
    "\n",
    "y_pred = y_pred[:y_val_one_hot.shape[0]]\n",
    "# Convert predictions from probabilities to class labels\n",
    "y_pred_classes = np.argmax(y_pred, axis=1)\n",
    "y_val_classes = np.argmax(y_val_one_hot, axis=1)\n",
    "\n",
    "# Evaluate the model\n",
    "accuracy = accuracy_score(y_val_classes, y_pred_classes)\n",
    "print(f\"Accuracy: {accuracy}\")\n",
    "\n",
    "# Generate a classification report\n",
    "print(\"Classification Report:\")\n",
    "print(classification_report(y_val_classes, y_pred_classes, target_names=[\"Class -1\", \"Class 0\", \"Class 1\"]))"
   ]
  },
  {
   "cell_type": "code",
   "execution_count": 24,
   "metadata": {},
   "outputs": [],
   "source": [
    "threshold = 500\n",
    "signals_pred = np.where(y_pred > threshold, 1, np.where(y_pred < -threshold, -1, 0)).astype(int)\n",
    "signals_test = np.where(y_test > threshold, 1, np.where(y_test < -threshold, -1, 0)).astype(int)"
   ]
  },
  {
   "cell_type": "code",
   "execution_count": 25,
   "metadata": {},
   "outputs": [
    {
     "ename": "AttributeError",
     "evalue": "'Series' object has no attribute 'flatten'",
     "output_type": "error",
     "traceback": [
      "\u001b[0;31m---------------------------------------------------------------------------\u001b[0m",
      "\u001b[0;31mAttributeError\u001b[0m                            Traceback (most recent call last)",
      "\u001b[0;32m/var/folders/gn/mtbdxhjn1697bp_qhyd6y0cr0000gn/T/ipykernel_72118/3750042434.py\u001b[0m in \u001b[0;36m?\u001b[0;34m()\u001b[0m\n\u001b[1;32m      1\u001b[0m data = pd.DataFrame({\n\u001b[1;32m      2\u001b[0m     \u001b[0;34m'Index'\u001b[0m\u001b[0;34m:\u001b[0m \u001b[0mrange\u001b[0m\u001b[0;34m(\u001b[0m\u001b[0mlen\u001b[0m\u001b[0;34m(\u001b[0m\u001b[0my_test\u001b[0m\u001b[0;34m)\u001b[0m\u001b[0;34m)\u001b[0m\u001b[0;34m,\u001b[0m\u001b[0;34m\u001b[0m\u001b[0;34m\u001b[0m\u001b[0m\n\u001b[0;32m----> 3\u001b[0;31m     \u001b[0;34m'y_test'\u001b[0m\u001b[0;34m:\u001b[0m \u001b[0my_test\u001b[0m\u001b[0;34m.\u001b[0m\u001b[0mflatten\u001b[0m\u001b[0;34m(\u001b[0m\u001b[0;34m)\u001b[0m\u001b[0;34m,\u001b[0m  \u001b[0;31m# Use .values to get NumPy array\u001b[0m\u001b[0;34m\u001b[0m\u001b[0;34m\u001b[0m\u001b[0m\n\u001b[0m\u001b[1;32m      4\u001b[0m     \u001b[0;34m'y_pred'\u001b[0m\u001b[0;34m:\u001b[0m \u001b[0my_pred\u001b[0m\u001b[0;34m.\u001b[0m\u001b[0mflatten\u001b[0m\u001b[0;34m(\u001b[0m\u001b[0;34m)\u001b[0m   \u001b[0;31m# Use .values to get NumPy array\u001b[0m\u001b[0;34m\u001b[0m\u001b[0;34m\u001b[0m\u001b[0m\n\u001b[1;32m      5\u001b[0m })\n\u001b[1;32m      6\u001b[0m \u001b[0;34m\u001b[0m\u001b[0m\n",
      "\u001b[0;32m/opt/anaconda3/envs/Universal/lib/python3.9/site-packages/pandas/core/generic.py\u001b[0m in \u001b[0;36m?\u001b[0;34m(self, name)\u001b[0m\n\u001b[1;32m   6295\u001b[0m             \u001b[0;32mand\u001b[0m \u001b[0mname\u001b[0m \u001b[0;32mnot\u001b[0m \u001b[0;32min\u001b[0m \u001b[0mself\u001b[0m\u001b[0;34m.\u001b[0m\u001b[0m_accessors\u001b[0m\u001b[0;34m\u001b[0m\u001b[0;34m\u001b[0m\u001b[0m\n\u001b[1;32m   6296\u001b[0m             \u001b[0;32mand\u001b[0m \u001b[0mself\u001b[0m\u001b[0;34m.\u001b[0m\u001b[0m_info_axis\u001b[0m\u001b[0;34m.\u001b[0m\u001b[0m_can_hold_identifiers_and_holds_name\u001b[0m\u001b[0;34m(\u001b[0m\u001b[0mname\u001b[0m\u001b[0;34m)\u001b[0m\u001b[0;34m\u001b[0m\u001b[0;34m\u001b[0m\u001b[0m\n\u001b[1;32m   6297\u001b[0m         ):\n\u001b[1;32m   6298\u001b[0m             \u001b[0;32mreturn\u001b[0m \u001b[0mself\u001b[0m\u001b[0;34m[\u001b[0m\u001b[0mname\u001b[0m\u001b[0;34m]\u001b[0m\u001b[0;34m\u001b[0m\u001b[0;34m\u001b[0m\u001b[0m\n\u001b[0;32m-> 6299\u001b[0;31m         \u001b[0;32mreturn\u001b[0m \u001b[0mobject\u001b[0m\u001b[0;34m.\u001b[0m\u001b[0m__getattribute__\u001b[0m\u001b[0;34m(\u001b[0m\u001b[0mself\u001b[0m\u001b[0;34m,\u001b[0m \u001b[0mname\u001b[0m\u001b[0;34m)\u001b[0m\u001b[0;34m\u001b[0m\u001b[0;34m\u001b[0m\u001b[0m\n\u001b[0m",
      "\u001b[0;31mAttributeError\u001b[0m: 'Series' object has no attribute 'flatten'"
     ]
    }
   ],
   "source": [
    "data = pd.DataFrame({\n",
    "    'Index': range(len(y_test)),\n",
    "    'y_test': y_test.flatten(),  # Use .values to get NumPy array\n",
    "    'y_pred': y_pred.flatten()   # Use .values to get NumPy array\n",
    "})\n",
    "\n",
    "# Plot the data\n",
    "plt.figure(figsize=(12, 6))\n",
    "sns.lineplot(data=data, x='Index', y='y_test', label='Actual (y_test)', color='blue')\n",
    "sns.lineplot(data=data, x='Index', y='y_pred', label='Predicted (y_pred)', color='orange')\n",
    "\n",
    "# Add labels and legend\n",
    "plt.title('Actual vs Predicted')\n",
    "plt.xlabel('Index')\n",
    "plt.ylabel('Value')\n",
    "plt.legend()\n",
    "plt.show()\n",
    "\n",
    "plt.figure(figsize=(12, 6))\n",
    "sns.lineplot(data=data, x='Index', y='y_pred', label='Predicted (y_pred)', color='orange')\n",
    "\n",
    "# Add labels and legend\n",
    "plt.title('Actual vs Predicted')\n",
    "plt.xlabel('Index')\n",
    "plt.ylabel('Value')\n",
    "plt.legend()\n",
    "plt.show()"
   ]
  },
  {
   "cell_type": "code",
   "execution_count": null,
   "metadata": {},
   "outputs": [
    {
     "name": "stdout",
     "output_type": "stream",
     "text": [
      "Unique values in signals_test: [-1  0  1]\n",
      "Unique values in signals_pred: [-1  0  1]\n"
     ]
    }
   ],
   "source": [
    "print(\"Unique values in signals_test:\", np.unique(signals_test))\n",
    "print(\"Unique values in signals_pred:\", np.unique(signals_pred))"
   ]
  },
  {
   "cell_type": "code",
   "execution_count": 26,
   "metadata": {},
   "outputs": [
    {
     "ename": "ValueError",
     "evalue": "Classification metrics can't handle a mix of binary and multilabel-indicator targets",
     "output_type": "error",
     "traceback": [
      "\u001b[0;31m---------------------------------------------------------------------------\u001b[0m",
      "\u001b[0;31mValueError\u001b[0m                                Traceback (most recent call last)",
      "Cell \u001b[0;32mIn[26], line 2\u001b[0m\n\u001b[1;32m      1\u001b[0m \u001b[38;5;28;01mfrom\u001b[39;00m \u001b[38;5;21;01msklearn\u001b[39;00m\u001b[38;5;21;01m.\u001b[39;00m\u001b[38;5;21;01mmetrics\u001b[39;00m \u001b[38;5;28;01mimport\u001b[39;00m classification_report, confusion_matrix\n\u001b[0;32m----> 2\u001b[0m \u001b[38;5;28mprint\u001b[39m(\u001b[43mclassification_report\u001b[49m\u001b[43m(\u001b[49m\u001b[43msignals_test\u001b[49m\u001b[43m,\u001b[49m\u001b[43m \u001b[49m\u001b[43msignals_pred\u001b[49m\u001b[43m,\u001b[49m\u001b[43m \u001b[49m\u001b[43mlabels\u001b[49m\u001b[38;5;241;43m=\u001b[39;49m\u001b[43m[\u001b[49m\u001b[38;5;241;43m-\u001b[39;49m\u001b[38;5;241;43m1\u001b[39;49m\u001b[43m,\u001b[49m\u001b[43m \u001b[49m\u001b[38;5;241;43m0\u001b[39;49m\u001b[43m,\u001b[49m\u001b[43m \u001b[49m\u001b[38;5;241;43m1\u001b[39;49m\u001b[43m]\u001b[49m\u001b[43m)\u001b[49m)\n\u001b[1;32m      3\u001b[0m \u001b[38;5;28mprint\u001b[39m(confusion_matrix(signals_test, signals_pred, labels\u001b[38;5;241m=\u001b[39m[\u001b[38;5;241m-\u001b[39m\u001b[38;5;241m1\u001b[39m, \u001b[38;5;241m0\u001b[39m, \u001b[38;5;241m1\u001b[39m]))\n",
      "File \u001b[0;32m/opt/anaconda3/envs/Universal/lib/python3.9/site-packages/sklearn/utils/_param_validation.py:216\u001b[0m, in \u001b[0;36mvalidate_params.<locals>.decorator.<locals>.wrapper\u001b[0;34m(*args, **kwargs)\u001b[0m\n\u001b[1;32m    210\u001b[0m \u001b[38;5;28;01mtry\u001b[39;00m:\n\u001b[1;32m    211\u001b[0m     \u001b[38;5;28;01mwith\u001b[39;00m config_context(\n\u001b[1;32m    212\u001b[0m         skip_parameter_validation\u001b[38;5;241m=\u001b[39m(\n\u001b[1;32m    213\u001b[0m             prefer_skip_nested_validation \u001b[38;5;129;01mor\u001b[39;00m global_skip_validation\n\u001b[1;32m    214\u001b[0m         )\n\u001b[1;32m    215\u001b[0m     ):\n\u001b[0;32m--> 216\u001b[0m         \u001b[38;5;28;01mreturn\u001b[39;00m \u001b[43mfunc\u001b[49m\u001b[43m(\u001b[49m\u001b[38;5;241;43m*\u001b[39;49m\u001b[43margs\u001b[49m\u001b[43m,\u001b[49m\u001b[43m \u001b[49m\u001b[38;5;241;43m*\u001b[39;49m\u001b[38;5;241;43m*\u001b[39;49m\u001b[43mkwargs\u001b[49m\u001b[43m)\u001b[49m\n\u001b[1;32m    217\u001b[0m \u001b[38;5;28;01mexcept\u001b[39;00m InvalidParameterError \u001b[38;5;28;01mas\u001b[39;00m e:\n\u001b[1;32m    218\u001b[0m     \u001b[38;5;66;03m# When the function is just a wrapper around an estimator, we allow\u001b[39;00m\n\u001b[1;32m    219\u001b[0m     \u001b[38;5;66;03m# the function to delegate validation to the estimator, but we replace\u001b[39;00m\n\u001b[1;32m    220\u001b[0m     \u001b[38;5;66;03m# the name of the estimator by the name of the function in the error\u001b[39;00m\n\u001b[1;32m    221\u001b[0m     \u001b[38;5;66;03m# message to avoid confusion.\u001b[39;00m\n\u001b[1;32m    222\u001b[0m     msg \u001b[38;5;241m=\u001b[39m re\u001b[38;5;241m.\u001b[39msub(\n\u001b[1;32m    223\u001b[0m         \u001b[38;5;124mr\u001b[39m\u001b[38;5;124m\"\u001b[39m\u001b[38;5;124mparameter of \u001b[39m\u001b[38;5;124m\\\u001b[39m\u001b[38;5;124mw+ must be\u001b[39m\u001b[38;5;124m\"\u001b[39m,\n\u001b[1;32m    224\u001b[0m         \u001b[38;5;124mf\u001b[39m\u001b[38;5;124m\"\u001b[39m\u001b[38;5;124mparameter of \u001b[39m\u001b[38;5;132;01m{\u001b[39;00mfunc\u001b[38;5;241m.\u001b[39m\u001b[38;5;18m__qualname__\u001b[39m\u001b[38;5;132;01m}\u001b[39;00m\u001b[38;5;124m must be\u001b[39m\u001b[38;5;124m\"\u001b[39m,\n\u001b[1;32m    225\u001b[0m         \u001b[38;5;28mstr\u001b[39m(e),\n\u001b[1;32m    226\u001b[0m     )\n",
      "File \u001b[0;32m/opt/anaconda3/envs/Universal/lib/python3.9/site-packages/sklearn/metrics/_classification.py:2671\u001b[0m, in \u001b[0;36mclassification_report\u001b[0;34m(y_true, y_pred, labels, target_names, sample_weight, digits, output_dict, zero_division)\u001b[0m\n\u001b[1;32m   2563\u001b[0m \u001b[38;5;250m\u001b[39m\u001b[38;5;124;03m\"\"\"Build a text report showing the main classification metrics.\u001b[39;00m\n\u001b[1;32m   2564\u001b[0m \n\u001b[1;32m   2565\u001b[0m \u001b[38;5;124;03mRead more in the :ref:`User Guide <classification_report>`.\u001b[39;00m\n\u001b[0;32m   (...)\u001b[0m\n\u001b[1;32m   2667\u001b[0m \u001b[38;5;124;03m<BLANKLINE>\u001b[39;00m\n\u001b[1;32m   2668\u001b[0m \u001b[38;5;124;03m\"\"\"\u001b[39;00m\n\u001b[1;32m   2670\u001b[0m y_true, y_pred \u001b[38;5;241m=\u001b[39m attach_unique(y_true, y_pred)\n\u001b[0;32m-> 2671\u001b[0m y_type, y_true, y_pred \u001b[38;5;241m=\u001b[39m \u001b[43m_check_targets\u001b[49m\u001b[43m(\u001b[49m\u001b[43my_true\u001b[49m\u001b[43m,\u001b[49m\u001b[43m \u001b[49m\u001b[43my_pred\u001b[49m\u001b[43m)\u001b[49m\n\u001b[1;32m   2673\u001b[0m \u001b[38;5;28;01mif\u001b[39;00m labels \u001b[38;5;129;01mis\u001b[39;00m \u001b[38;5;28;01mNone\u001b[39;00m:\n\u001b[1;32m   2674\u001b[0m     labels \u001b[38;5;241m=\u001b[39m unique_labels(y_true, y_pred)\n",
      "File \u001b[0;32m/opt/anaconda3/envs/Universal/lib/python3.9/site-packages/sklearn/metrics/_classification.py:107\u001b[0m, in \u001b[0;36m_check_targets\u001b[0;34m(y_true, y_pred)\u001b[0m\n\u001b[1;32m    104\u001b[0m     y_type \u001b[38;5;241m=\u001b[39m {\u001b[38;5;124m\"\u001b[39m\u001b[38;5;124mmulticlass\u001b[39m\u001b[38;5;124m\"\u001b[39m}\n\u001b[1;32m    106\u001b[0m \u001b[38;5;28;01mif\u001b[39;00m \u001b[38;5;28mlen\u001b[39m(y_type) \u001b[38;5;241m>\u001b[39m \u001b[38;5;241m1\u001b[39m:\n\u001b[0;32m--> 107\u001b[0m     \u001b[38;5;28;01mraise\u001b[39;00m \u001b[38;5;167;01mValueError\u001b[39;00m(\n\u001b[1;32m    108\u001b[0m         \u001b[38;5;124m\"\u001b[39m\u001b[38;5;124mClassification metrics can\u001b[39m\u001b[38;5;124m'\u001b[39m\u001b[38;5;124mt handle a mix of \u001b[39m\u001b[38;5;132;01m{0}\u001b[39;00m\u001b[38;5;124m and \u001b[39m\u001b[38;5;132;01m{1}\u001b[39;00m\u001b[38;5;124m targets\u001b[39m\u001b[38;5;124m\"\u001b[39m\u001b[38;5;241m.\u001b[39mformat(\n\u001b[1;32m    109\u001b[0m             type_true, type_pred\n\u001b[1;32m    110\u001b[0m         )\n\u001b[1;32m    111\u001b[0m     )\n\u001b[1;32m    113\u001b[0m \u001b[38;5;66;03m# We can't have more than one value on y_type => The set is no more needed\u001b[39;00m\n\u001b[1;32m    114\u001b[0m y_type \u001b[38;5;241m=\u001b[39m y_type\u001b[38;5;241m.\u001b[39mpop()\n",
      "\u001b[0;31mValueError\u001b[0m: Classification metrics can't handle a mix of binary and multilabel-indicator targets"
     ]
    }
   ],
   "source": [
    "from sklearn.metrics import classification_report, confusion_matrix\n",
    "print(classification_report(signals_test, signals_pred, labels=[-1, 0, 1]))\n",
    "print(confusion_matrix(signals_test, signals_pred, labels=[-1, 0, 1]))"
   ]
  },
  {
   "cell_type": "code",
   "execution_count": null,
   "metadata": {},
   "outputs": [],
   "source": []
  }
 ],
 "metadata": {
  "kernelspec": {
   "display_name": "Universal",
   "language": "python",
   "name": "python3"
  },
  "language_info": {
   "codemirror_mode": {
    "name": "ipython",
    "version": 3
   },
   "file_extension": ".py",
   "mimetype": "text/x-python",
   "name": "python",
   "nbconvert_exporter": "python",
   "pygments_lexer": "ipython3",
   "version": "3.9.18"
  }
 },
 "nbformat": 4,
 "nbformat_minor": 2
}
