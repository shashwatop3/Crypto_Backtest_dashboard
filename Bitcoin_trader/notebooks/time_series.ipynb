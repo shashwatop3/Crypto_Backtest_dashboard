{
 "cells": [
  {
   "cell_type": "code",
   "execution_count": 129,
   "metadata": {},
   "outputs": [],
   "source": [
    "import pandas as pd\n",
    "import numpy as np\n",
    "import matplotlib.pyplot as plt\n",
    "import seaborn as sns\n",
    "from keras.models import Sequential\n",
    "from keras.layers import Input, LSTM, Dense, Dropout\n",
    "from keras.models import Model\n",
    "from sklearn.preprocessing import StandardScaler, RobustScaler, MinMaxScaler\n",
    "import numpy as np\n",
    "from keras.regularizers import l2\n",
    "        "
   ]
  },
  {
   "cell_type": "code",
   "execution_count": 130,
   "metadata": {},
   "outputs": [
    {
     "name": "stdout",
     "output_type": "stream",
     "text": [
      "Num GPUs Available:  1\n"
     ]
    }
   ],
   "source": [
    "import tensorflow as tf\n",
    "print(\"Num GPUs Available: \", len(tf.config.list_physical_devices('GPU')))\n",
    "# tf.debugging.set_log_device_placement(False)"
   ]
  },
  {
   "cell_type": "code",
   "execution_count": 131,
   "metadata": {},
   "outputs": [],
   "source": [
    "df = pd.read_parquet('../data/btcusd_preprcd_with_regimes.parquet')\n",
    "\n",
    "df.dropna(inplace=True)"
   ]
  },
  {
   "cell_type": "code",
   "execution_count": 132,
   "metadata": {},
   "outputs": [
    {
     "name": "stdout",
     "output_type": "stream",
     "text": [
      "<class 'pandas.core.frame.DataFrame'>\n",
      "Index: 292616 entries, 47 to 292662\n",
      "Data columns (total 13 columns):\n",
      " #   Column            Non-Null Count   Dtype  \n",
      "---  ------            --------------   -----  \n",
      " 0   open              292616 non-null  float64\n",
      " 1   high              292616 non-null  float64\n",
      " 2   low               292616 non-null  float64\n",
      " 3   close             292616 non-null  float64\n",
      " 4   BB_up_diff        292616 non-null  float64\n",
      " 5   BB_down_diff      292616 non-null  float64\n",
      " 6   OBV_Z             292616 non-null  float64\n",
      " 7   MACD_Histogram    292616 non-null  float64\n",
      " 8   RSI               292616 non-null  float64\n",
      " 9   CCI               292616 non-null  float64\n",
      " 10  predict_trend     292616 non-null  float64\n",
      " 11  regime            292616 non-null  float64\n",
      " 12  smoothed_regimes  292616 non-null  float64\n",
      "dtypes: float64(13)\n",
      "memory usage: 31.3 MB\n",
      "None\n"
     ]
    },
    {
     "data": {
      "text/plain": [
       "open                0\n",
       "high                0\n",
       "low                 0\n",
       "close               0\n",
       "BB_up_diff          0\n",
       "BB_down_diff        0\n",
       "OBV_Z               0\n",
       "MACD_Histogram      0\n",
       "RSI                 0\n",
       "CCI                 0\n",
       "predict_trend       0\n",
       "regime              0\n",
       "smoothed_regimes    0\n",
       "dtype: int64"
      ]
     },
     "execution_count": 132,
     "metadata": {},
     "output_type": "execute_result"
    }
   ],
   "source": [
    "print(df.info())\n",
    "df.isna().sum()"
   ]
  },
  {
   "cell_type": "code",
   "execution_count": 133,
   "metadata": {},
   "outputs": [],
   "source": [
    "def calculate_future_price(df, window=3):\n",
    "    def weight_average(x):\n",
    "        return np.dot(x, [0.45, 0.3, 0.25])\n",
    "    df['future_price'] = df['close'].rolling(window=window).apply(weight_average, raw=True).shift(-window)\n",
    "    return df\n",
    "df = calculate_future_price(df, window=3)"
   ]
  },
  {
   "cell_type": "code",
   "execution_count": 134,
   "metadata": {},
   "outputs": [],
   "source": [
    "import pandas as pd\n",
    "import numpy as np\n",
    "\n",
    "def create_features(df):\n",
    "    # Moving averages\n",
    "    windows = [5, 20]\n",
    "    for w in windows:\n",
    "        df[f'SMA_{w}'] = df['close'].rolling(w).mean()\n",
    "        df[f'EMA_{w}'] = df['close'].ewm(span=w).mean()\n",
    "    \n",
    "    # Momentum\n",
    "    df['ROC_5'] = df['close'].pct_change(5)\n",
    "    df['ROC_20'] = df['close'].pct_change(20)\n",
    "    df['MACD_MA_5'] = df['MACD_Histogram'].rolling(5).mean()\n",
    "    \n",
    "    # Volatility\n",
    "    df['BB_width'] = df['BB_up_diff'] - df['BB_down_diff']\n",
    "    df['high-low'] = df['high'] - df['low']\n",
    "    df['close_prev'] = df['close'].shift(1)\n",
    "    df['high-close_prev'] = df['high'] - df['close_prev']\n",
    "    df['low-close_prev'] = df['low'] - df['close_prev']\n",
    "    df['TR'] = df[['high-low', 'high-close_prev', 'low-close_prev']].max(axis=1)\n",
    "    df['ATR_14'] = df['TR'].rolling(14).mean()\n",
    "    \n",
    "    # Interactions\n",
    "    df['RSI_CCI'] = df['RSI'] * df['CCI']\n",
    "    df['OBV_MACD'] = df['OBV_Z'] * df['MACD_Histogram']\n",
    "    \n",
    "    # Statistical features\n",
    "    df['RSI_zscore'] = (df['RSI'] - df['RSI'].rolling(20).mean()) / df['RSI'].rolling(20).std()\n",
    "    df['RSI_CCI_corr'] = df['RSI'].rolling(20).corr(df['CCI'])\n",
    "    \n",
    "    return df.dropna()\n",
    "\n",
    "# Usage:\n",
    "df = create_features(df)\n"
   ]
  },
  {
   "cell_type": "code",
   "execution_count": 135,
   "metadata": {},
   "outputs": [],
   "source": [
    "def preprocess_data(train_df):\n",
    "    # Calculate log returns for price columns\n",
    "    for col in ['open', 'high', 'low', 'close']:\n",
    "        train_df[f'{col}_log_return'] = np.log(train_df[col] / train_df[col].shift(1))\n",
    "    \n",
    "    # Create additional features\n",
    "    train_df['price_mean'] = train_df[['open', 'high', 'low', 'close']].mean(axis=1)\n",
    "    train_df['price_std'] = train_df[['open', 'high', 'low', 'close']].std(axis=1)\n",
    "    train_df['price_range'] = train_df['high'] - train_df['low']\n",
    "    # Standard scaling for MACD and CCI\n",
    "    std_cols = ['MACD_Histogram', 'CCI']\n",
    "    std_scaler = StandardScaler().fit(train_df[std_cols])\n",
    "    train_df[std_cols] = std_scaler.transform(train_df[std_cols])\n",
    "    \n",
    "    # Normalize RSI to focus on the 30–70 range\n",
    "    train_df['RSI'] = np.clip(train_df['RSI'], 30, 70)\n",
    "    rsi_scaler = MinMaxScaler(feature_range=(0, 1)).fit(train_df[['RSI']])\n",
    "    train_df['RSI'] = rsi_scaler.transform(train_df[['RSI']])\n",
    "    \n",
    "    # Add lagged features for RSI, MACD, CCI, and predict_trend\n",
    "    for col in ['RSI', 'MACD_Histogram', 'CCI']:\n",
    "        for lag in range(1, 10):  # Add 4 lagged intervals\n",
    "            train_df[f'{col}_lag_{lag}'] = train_df[col].shift(lag)\n",
    "    for col in ['predict_trend']:\n",
    "        for lag in range(1, 10):\n",
    "            train_df[f'{col}_lag_{lag}'] = train_df[col].shift(lag+3)\n",
    "    # Drop rows with NaN values (caused by lagging)\n",
    "    train_df.dropna(inplace=True)\n",
    "    \n",
    "    return train_df"
   ]
  },
  {
   "cell_type": "code",
   "execution_count": 136,
   "metadata": {},
   "outputs": [
    {
     "data": {
      "text/plain": [
       "Index(['open', 'high', 'low', 'close', 'BB_up_diff', 'BB_down_diff', 'OBV_Z',\n",
       "       'MACD_Histogram', 'RSI', 'CCI', 'predict_trend', 'regime',\n",
       "       'smoothed_regimes', 'future_price', 'SMA_5', 'EMA_5', 'SMA_20',\n",
       "       'EMA_20', 'ROC_5', 'ROC_20', 'MACD_MA_5', 'BB_width', 'high-low',\n",
       "       'close_prev', 'high-close_prev', 'low-close_prev', 'TR', 'ATR_14',\n",
       "       'RSI_CCI', 'OBV_MACD', 'RSI_zscore', 'RSI_CCI_corr'],\n",
       "      dtype='object')"
      ]
     },
     "execution_count": 136,
     "metadata": {},
     "output_type": "execute_result"
    }
   ],
   "source": [
    "df.columns"
   ]
  },
  {
   "cell_type": "code",
   "execution_count": 137,
   "metadata": {},
   "outputs": [
    {
     "data": {
      "text/plain": [
       "count    292593.000000\n",
       "mean          0.828322\n",
       "std         143.946962\n",
       "min       -6669.066665\n",
       "25%         -21.666667\n",
       "50%           0.185333\n",
       "75%          23.282667\n",
       "max        6293.066669\n",
       "Name: predict_trend, dtype: float64"
      ]
     },
     "execution_count": 137,
     "metadata": {},
     "output_type": "execute_result"
    }
   ],
   "source": [
    "df['predict_trend'].describe()"
   ]
  },
  {
   "cell_type": "code",
   "execution_count": 138,
   "metadata": {},
   "outputs": [],
   "source": [
    "df = preprocess_data(df)\n",
    "sc = StandardScaler()\n",
    "df['predict_trend'] = sc.fit_transform(df[['predict_trend']])"
   ]
  },
  {
   "cell_type": "code",
   "execution_count": 139,
   "metadata": {},
   "outputs": [
    {
     "data": {
      "text/html": [
       "<div>\n",
       "<style scoped>\n",
       "    .dataframe tbody tr th:only-of-type {\n",
       "        vertical-align: middle;\n",
       "    }\n",
       "\n",
       "    .dataframe tbody tr th {\n",
       "        vertical-align: top;\n",
       "    }\n",
       "\n",
       "    .dataframe thead th {\n",
       "        text-align: right;\n",
       "    }\n",
       "</style>\n",
       "<table border=\"1\" class=\"dataframe\">\n",
       "  <thead>\n",
       "    <tr style=\"text-align: right;\">\n",
       "      <th></th>\n",
       "      <th>open</th>\n",
       "      <th>high</th>\n",
       "      <th>low</th>\n",
       "      <th>close</th>\n",
       "      <th>BB_up_diff</th>\n",
       "      <th>BB_down_diff</th>\n",
       "      <th>OBV_Z</th>\n",
       "      <th>MACD_Histogram</th>\n",
       "      <th>RSI</th>\n",
       "      <th>CCI</th>\n",
       "      <th>...</th>\n",
       "      <th>CCI_lag_9</th>\n",
       "      <th>predict_trend_lag_1</th>\n",
       "      <th>predict_trend_lag_2</th>\n",
       "      <th>predict_trend_lag_3</th>\n",
       "      <th>predict_trend_lag_4</th>\n",
       "      <th>predict_trend_lag_5</th>\n",
       "      <th>predict_trend_lag_6</th>\n",
       "      <th>predict_trend_lag_7</th>\n",
       "      <th>predict_trend_lag_8</th>\n",
       "      <th>predict_trend_lag_9</th>\n",
       "    </tr>\n",
       "  </thead>\n",
       "  <tbody>\n",
       "    <tr>\n",
       "      <th>79</th>\n",
       "      <td>646.53</td>\n",
       "      <td>649.20</td>\n",
       "      <td>645.87</td>\n",
       "      <td>649.20</td>\n",
       "      <td>12.453662</td>\n",
       "      <td>-3.675662</td>\n",
       "      <td>-0.472583</td>\n",
       "      <td>-0.037885</td>\n",
       "      <td>0.225794</td>\n",
       "      <td>-0.693708</td>\n",
       "      <td>...</td>\n",
       "      <td>-0.754542</td>\n",
       "      <td>-2.282667</td>\n",
       "      <td>-7.515333</td>\n",
       "      <td>-5.200000</td>\n",
       "      <td>-2.805333</td>\n",
       "      <td>-2.661333</td>\n",
       "      <td>0.169333</td>\n",
       "      <td>-0.966000</td>\n",
       "      <td>-0.604000</td>\n",
       "      <td>-0.353333</td>\n",
       "    </tr>\n",
       "    <tr>\n",
       "      <th>80</th>\n",
       "      <td>649.39</td>\n",
       "      <td>650.93</td>\n",
       "      <td>649.20</td>\n",
       "      <td>649.27</td>\n",
       "      <td>11.718864</td>\n",
       "      <td>-4.041864</td>\n",
       "      <td>-0.175740</td>\n",
       "      <td>-0.031963</td>\n",
       "      <td>0.000000</td>\n",
       "      <td>-0.593891</td>\n",
       "      <td>...</td>\n",
       "      <td>-0.092767</td>\n",
       "      <td>1.912667</td>\n",
       "      <td>-2.282667</td>\n",
       "      <td>-7.515333</td>\n",
       "      <td>-5.200000</td>\n",
       "      <td>-2.805333</td>\n",
       "      <td>-2.661333</td>\n",
       "      <td>0.169333</td>\n",
       "      <td>-0.966000</td>\n",
       "      <td>-0.604000</td>\n",
       "    </tr>\n",
       "    <tr>\n",
       "      <th>81</th>\n",
       "      <td>649.27</td>\n",
       "      <td>649.82</td>\n",
       "      <td>648.19</td>\n",
       "      <td>648.65</td>\n",
       "      <td>12.260267</td>\n",
       "      <td>-3.928267</td>\n",
       "      <td>-0.874383</td>\n",
       "      <td>-0.027759</td>\n",
       "      <td>0.000000</td>\n",
       "      <td>-0.622696</td>\n",
       "      <td>...</td>\n",
       "      <td>-0.619284</td>\n",
       "      <td>2.328667</td>\n",
       "      <td>1.912667</td>\n",
       "      <td>-2.282667</td>\n",
       "      <td>-7.515333</td>\n",
       "      <td>-5.200000</td>\n",
       "      <td>-2.805333</td>\n",
       "      <td>-2.661333</td>\n",
       "      <td>0.169333</td>\n",
       "      <td>-0.966000</td>\n",
       "    </tr>\n",
       "    <tr>\n",
       "      <th>82</th>\n",
       "      <td>648.65</td>\n",
       "      <td>648.96</td>\n",
       "      <td>646.63</td>\n",
       "      <td>648.17</td>\n",
       "      <td>12.639695</td>\n",
       "      <td>-3.979695</td>\n",
       "      <td>-1.250301</td>\n",
       "      <td>-0.024548</td>\n",
       "      <td>0.000000</td>\n",
       "      <td>-0.624402</td>\n",
       "      <td>...</td>\n",
       "      <td>-0.423893</td>\n",
       "      <td>1.909333</td>\n",
       "      <td>2.328667</td>\n",
       "      <td>1.912667</td>\n",
       "      <td>-2.282667</td>\n",
       "      <td>-7.515333</td>\n",
       "      <td>-5.200000</td>\n",
       "      <td>-2.805333</td>\n",
       "      <td>-2.661333</td>\n",
       "      <td>0.169333</td>\n",
       "    </tr>\n",
       "    <tr>\n",
       "      <th>83</th>\n",
       "      <td>648.23</td>\n",
       "      <td>648.98</td>\n",
       "      <td>646.68</td>\n",
       "      <td>648.27</td>\n",
       "      <td>12.372836</td>\n",
       "      <td>-4.540836</td>\n",
       "      <td>-0.785012</td>\n",
       "      <td>-0.021069</td>\n",
       "      <td>0.000000</td>\n",
       "      <td>-0.515360</td>\n",
       "      <td>...</td>\n",
       "      <td>-0.408454</td>\n",
       "      <td>-0.595333</td>\n",
       "      <td>1.909333</td>\n",
       "      <td>2.328667</td>\n",
       "      <td>1.912667</td>\n",
       "      <td>-2.282667</td>\n",
       "      <td>-7.515333</td>\n",
       "      <td>-5.200000</td>\n",
       "      <td>-2.805333</td>\n",
       "      <td>-2.661333</td>\n",
       "    </tr>\n",
       "  </tbody>\n",
       "</table>\n",
       "<p>5 rows × 75 columns</p>\n",
       "</div>"
      ],
      "text/plain": [
       "      open    high     low   close  BB_up_diff  BB_down_diff     OBV_Z  \\\n",
       "79  646.53  649.20  645.87  649.20   12.453662     -3.675662 -0.472583   \n",
       "80  649.39  650.93  649.20  649.27   11.718864     -4.041864 -0.175740   \n",
       "81  649.27  649.82  648.19  648.65   12.260267     -3.928267 -0.874383   \n",
       "82  648.65  648.96  646.63  648.17   12.639695     -3.979695 -1.250301   \n",
       "83  648.23  648.98  646.68  648.27   12.372836     -4.540836 -0.785012   \n",
       "\n",
       "    MACD_Histogram       RSI       CCI  ...  CCI_lag_9  predict_trend_lag_1  \\\n",
       "79       -0.037885  0.225794 -0.693708  ...  -0.754542            -2.282667   \n",
       "80       -0.031963  0.000000 -0.593891  ...  -0.092767             1.912667   \n",
       "81       -0.027759  0.000000 -0.622696  ...  -0.619284             2.328667   \n",
       "82       -0.024548  0.000000 -0.624402  ...  -0.423893             1.909333   \n",
       "83       -0.021069  0.000000 -0.515360  ...  -0.408454            -0.595333   \n",
       "\n",
       "    predict_trend_lag_2  predict_trend_lag_3  predict_trend_lag_4  \\\n",
       "79            -7.515333            -5.200000            -2.805333   \n",
       "80            -2.282667            -7.515333            -5.200000   \n",
       "81             1.912667            -2.282667            -7.515333   \n",
       "82             2.328667             1.912667            -2.282667   \n",
       "83             1.909333             2.328667             1.912667   \n",
       "\n",
       "    predict_trend_lag_5  predict_trend_lag_6  predict_trend_lag_7  \\\n",
       "79            -2.661333             0.169333            -0.966000   \n",
       "80            -2.805333            -2.661333             0.169333   \n",
       "81            -5.200000            -2.805333            -2.661333   \n",
       "82            -7.515333            -5.200000            -2.805333   \n",
       "83            -2.282667            -7.515333            -5.200000   \n",
       "\n",
       "    predict_trend_lag_8  predict_trend_lag_9  \n",
       "79            -0.604000            -0.353333  \n",
       "80            -0.966000            -0.604000  \n",
       "81             0.169333            -0.966000  \n",
       "82            -2.661333             0.169333  \n",
       "83            -2.805333            -2.661333  \n",
       "\n",
       "[5 rows x 75 columns]"
      ]
     },
     "execution_count": 139,
     "metadata": {},
     "output_type": "execute_result"
    }
   ],
   "source": [
    "df.head()"
   ]
  },
  {
   "cell_type": "code",
   "execution_count": 140,
   "metadata": {},
   "outputs": [],
   "source": [
    "y = df['predict_trend']\n",
    "x = df.drop(columns=['predict_trend'])\n",
    "x_train = x[:int(len(x)*0.6)]\n",
    "y_train = y[:int(len(x)*0.6)]\n",
    "x_val = x[int(len(x)*0.6):int(len(x)*0.8)]\n",
    "y_val = y[int(len(x)*0.6):int(len(x)*0.8)]\n",
    "x_test = x[int(len(x)*0.8):]\n",
    "y_test = y[int(len(x)*0.8):]"
   ]
  },
  {
   "cell_type": "code",
   "execution_count": 141,
   "metadata": {},
   "outputs": [],
   "source": [
    "x_train = np.nan_to_num(x_train, nan=0.0, posinf=0.0, neginf=0.0)\n",
    "y_train = np.nan_to_num(y_train, nan=0.0, posinf=0.0, neginf=0.0)\n",
    "x_val = np.nan_to_num(x_val, nan=0.0, posinf=0.0, neginf=0.0)\n",
    "y_val = np.nan_to_num(y_val, nan=0.0, posinf=0.0, neginf=0.0)"
   ]
  },
  {
   "cell_type": "code",
   "execution_count": 142,
   "metadata": {},
   "outputs": [
    {
     "name": "stderr",
     "output_type": "stream",
     "text": [
      "/opt/anaconda3/envs/Universal/lib/python3.9/site-packages/sklearn/utils/validation.py:2732: UserWarning: X has feature names, but MinMaxScaler was fitted without feature names\n",
      "  warnings.warn(\n"
     ]
    }
   ],
   "source": [
    "from sklearn.preprocessing import MinMaxScaler\n",
    "\n",
    "scaler = MinMaxScaler(feature_range=(0, 1))\n",
    "x_train_scaled = scaler.fit_transform(x_train)\n",
    "x_val_scaled = scaler.transform(x_val)\n",
    "x_test_scaled = scaler.transform(x_test)"
   ]
  },
  {
   "cell_type": "code",
   "execution_count": 143,
   "metadata": {},
   "outputs": [
    {
     "data": {
      "text/plain": [
       "(175548,)"
      ]
     },
     "execution_count": 143,
     "metadata": {},
     "output_type": "execute_result"
    }
   ],
   "source": [
    "y_train.shape"
   ]
  },
  {
   "cell_type": "code",
   "execution_count": 144,
   "metadata": {},
   "outputs": [
    {
     "data": {
      "image/png": "[encoded data removed]",
      "text/plain": [
       "<Figure size 640x480 with 1 Axes>"
      ]
     },
     "metadata": {},
     "output_type": "display_data"
    }
   ],
   "source": [
    "sns.lineplot(data=y_train, color='blue')\n",
    "\n",
    "plt.title('Train data')\n",
    "plt.xlabel('Time')\n",
    "plt.ylabel('Trend')\n",
    "plt.show()\n"
   ]
  },
  {
   "cell_type": "code",
   "execution_count": 145,
   "metadata": {},
   "outputs": [
    {
     "name": "stderr",
     "output_type": "stream",
     "text": [
      "/opt/anaconda3/envs/Universal/lib/python3.9/site-packages/keras/src/layers/rnn/rnn.py:204: UserWarning: Do not pass an `input_shape`/`input_dim` argument to a layer. When using Sequential models, prefer using an `Input(shape)` object as the first layer in the model instead.\n",
      "  super().__init__(**kwargs)\n"
     ]
    }
   ],
   "source": [
    "from keras.regularizers import l2\n",
    "from keras.optimizers import Adam\n",
    "\n",
    "model = Sequential()\n",
    "model.add(LSTM(100, input_shape=(x_train.shape[1], 1), return_sequences=True))\n",
    "model.add(LSTM(100, return_sequences=True))\n",
    "model.add(LSTM(100, return_sequences=True))\n",
    "model.add(LSTM(50, return_sequences=True))\n",
    "model.add(LSTM(50, return_sequences=False))\n",
    "model.add(Dense(64, activation='relu'))\n",
    "model.add(Dense(16, activation='relu'))\n",
    "model.add(Dense(8, activation='relu'))\n",
    "model.add(Dense(1))\n",
    "\n",
    "\n",
    "optimizer = Adam()  # Clip gradients to prevent exploding\n",
    "model.compile(optimizer=optimizer, loss='mean_squared_error', metrics=['mae'])\n"
   ]
  },
  {
   "cell_type": "code",
   "execution_count": 146,
   "metadata": {},
   "outputs": [
    {
     "name": "stdout",
     "output_type": "stream",
     "text": [
      "Epoch 1/5\n"
     ]
    },
    {
     "name": "stderr",
     "output_type": "stream",
     "text": [
      "2025-03-22 19:44:11.767576: E tensorflow/core/grappler/optimizers/meta_optimizer.cc:961] PluggableGraphOptimizer failed: INVALID_ARGUMENT: Failed to deserialize the `graph_buf`.\n"
     ]
    },
    {
     "name": "stdout",
     "output_type": "stream",
     "text": [
      "\u001b[1m5486/5486\u001b[0m \u001b[32m━━━━━━━━━━━━━━━━━━━━\u001b[0m\u001b[37m\u001b[0m \u001b[1m0s\u001b[0m 60ms/step - loss: 0.6001 - mae: 0.3019"
     ]
    },
    {
     "name": "stderr",
     "output_type": "stream",
     "text": [
      "2025-03-22 19:49:47.841912: E tensorflow/core/grappler/optimizers/meta_optimizer.cc:961] PluggableGraphOptimizer failed: INVALID_ARGUMENT: Failed to deserialize the `graph_buf`.\n"
     ]
    },
    {
     "name": "stdout",
     "output_type": "stream",
     "text": [
      "\u001b[1m5486/5486\u001b[0m \u001b[32m━━━━━━━━━━━━━━━━━━━━\u001b[0m\u001b[37m\u001b[0m \u001b[1m376s\u001b[0m 68ms/step - loss: 0.6001 - mae: 0.3019 - val_loss: 1.2533 - val_mae: 0.6757\n",
      "Epoch 2/5\n",
      "\u001b[1m5486/5486\u001b[0m \u001b[32m━━━━━━━━━━━━━━━━━━━━\u001b[0m\u001b[37m\u001b[0m \u001b[1m378s\u001b[0m 69ms/step - loss: 0.5744 - mae: 0.2983 - val_loss: 1.2532 - val_mae: 0.6757\n",
      "Epoch 3/5\n",
      "\u001b[1m5486/5486\u001b[0m \u001b[32m━━━━━━━━━━━━━━━━━━━━\u001b[0m\u001b[37m\u001b[0m \u001b[1m381s\u001b[0m 70ms/step - loss: 0.5833 - mae: 0.2973 - val_loss: 1.2532 - val_mae: 0.6757\n",
      "Epoch 4/5\n",
      "\u001b[1m5486/5486\u001b[0m \u001b[32m━━━━━━━━━━━━━━━━━━━━\u001b[0m\u001b[37m\u001b[0m \u001b[1m389s\u001b[0m 71ms/step - loss: 0.6021 - mae: 0.3017 - val_loss: 1.2532 - val_mae: 0.6757\n",
      "Epoch 5/5\n",
      "\u001b[1m5486/5486\u001b[0m \u001b[32m━━━━━━━━━━━━━━━━━━━━\u001b[0m\u001b[37m\u001b[0m \u001b[1m390s\u001b[0m 71ms/step - loss: 0.5854 - mae: 0.3000 - val_loss: 1.2534 - val_mae: 0.6757\n"
     ]
    },
    {
     "data": {
      "text/plain": [
       "<keras.src.callbacks.history.History at 0x3184eb880>"
      ]
     },
     "execution_count": 146,
     "metadata": {},
     "output_type": "execute_result"
    }
   ],
   "source": [
    "model.fit(x_train, y_train, batch_size=32, epochs=5, validation_data=(x_val, y_val), verbose=1)"
   ]
  },
  {
   "cell_type": "code",
   "execution_count": 147,
   "metadata": {},
   "outputs": [
    {
     "name": "stderr",
     "output_type": "stream",
     "text": [
      "WARNING:absl:You are saving your model as an HDF5 file via `model.save()` or `keras.saving.save_model(model)`. This file format is considered legacy. We recommend using instead the native Keras format, e.g. `model.save('my_model.keras')` or `keras.saving.save_model(model, 'my_model.keras')`. \n"
     ]
    }
   ],
   "source": [
    "model.save('../models/time_series_market_model4.h5')"
   ]
  },
  {
   "cell_type": "code",
   "execution_count": 148,
   "metadata": {},
   "outputs": [
    {
     "name": "stderr",
     "output_type": "stream",
     "text": [
      "WARNING:absl:Compiled the loaded model, but the compiled metrics have yet to be built. `model.compile_metrics` will be empty until you train or evaluate the model.\n",
      "2025-03-22 20:16:05.952077: E tensorflow/core/grappler/optimizers/meta_optimizer.cc:961] PluggableGraphOptimizer failed: INVALID_ARGUMENT: Failed to deserialize the `graph_buf`.\n"
     ]
    },
    {
     "name": "stdout",
     "output_type": "stream",
     "text": [
      "\u001b[1m1829/1829\u001b[0m \u001b[32m━━━━━━━━━━━━━━━━━━━━\u001b[0m\u001b[37m\u001b[0m \u001b[1m27s\u001b[0m 14ms/step\n"
     ]
    }
   ],
   "source": [
    "from keras.metrics import MeanSquaredError\n",
    "import joblib\n",
    "\n",
    "custom_objects = {'mse': MeanSquaredError()}\n",
    "\n",
    "model_n = tf.keras.models.load_model('../models/time_series_market_model4.h5', custom_objects=custom_objects)\n",
    "# joblib.dump(sc, '../models/scaler.pkl')\n",
    "# joblib.dump(model_n, '../models/model_timeseries2.joblib')\n",
    "y_pred = model_n.predict(x_test)\n"
   ]
  },
  {
   "cell_type": "code",
   "execution_count": 149,
   "metadata": {},
   "outputs": [
    {
     "name": "stdout",
     "output_type": "stream",
     "text": [
      "[0.00509537]\n"
     ]
    }
   ],
   "source": [
    "print(y_pred[0])"
   ]
  },
  {
   "cell_type": "code",
   "execution_count": 150,
   "metadata": {},
   "outputs": [],
   "source": [
    "y_pred = sc.inverse_transform(np.array(y_pred).reshape(-1, 1))\n",
    "y_test = sc.inverse_transform(np.array(y_test).reshape(-1, 1))"
   ]
  },
  {
   "cell_type": "code",
   "execution_count": 151,
   "metadata": {},
   "outputs": [
    {
     "data": {
      "text/plain": [
       "array([1.5618881], dtype=float32)"
      ]
     },
     "execution_count": 151,
     "metadata": {},
     "output_type": "execute_result"
    }
   ],
   "source": [
    "y_pred[0]"
   ]
  },
  {
   "cell_type": "code",
   "execution_count": 152,
   "metadata": {},
   "outputs": [],
   "source": [
    "threshold = 500\n",
    "take_profit = 300\n",
    "signals_pred = np.where(y_pred > 600, 1, np.where(y_pred < -300, -1, 0)).astype(int)\n",
    "signals_test = np.where(y_test > take_profit, 1, np.where(y_test < -take_profit, -1, 0)).astype(int)"
   ]
  },
  {
   "cell_type": "code",
   "execution_count": 153,
   "metadata": {},
   "outputs": [
    {
     "data": {
      "image/png": "[encoded data removed]",
      "text/plain": [
       "<Figure size 1200x600 with 1 Axes>"
      ]
     },
     "metadata": {},
     "output_type": "display_data"
    },
    {
     "data": {
      "image/png": "[encoded data removed]",
      "text/plain": [
       "<Figure size 1200x600 with 1 Axes>"
      ]
     },
     "metadata": {},
     "output_type": "display_data"
    }
   ],
   "source": [
    "data = pd.DataFrame({\n",
    "    'Index': range(len(y_test)),\n",
    "    'y_test': y_test.flatten(),  # Use .values to get NumPy array\n",
    "    'y_pred': y_pred.flatten()   # Use .values to get NumPy array\n",
    "})\n",
    "\n",
    "# Plot the data\n",
    "plt.figure(figsize=(12, 6))\n",
    "sns.lineplot(data=data, x='Index', y='y_test', label='Actual (y_test)', color='blue')\n",
    "sns.lineplot(data=data, x='Index', y='y_pred', label='Predicted (y_pred)', color='orange')\n",
    "\n",
    "# Add labels and legend\n",
    "plt.title('Actual vs Predicted')\n",
    "plt.xlabel('Index')\n",
    "plt.ylabel('Value')\n",
    "plt.legend()\n",
    "plt.show()\n",
    "\n",
    "plt.figure(figsize=(12, 6))\n",
    "sns.lineplot(data=data, x='Index', y='y_pred', label='Predicted (y_pred)', color='orange')\n",
    "\n",
    "# Add labels and legend\n",
    "plt.title('Actual vs Predicted')\n",
    "plt.xlabel('Index')\n",
    "plt.ylabel('Value')\n",
    "plt.legend()\n",
    "plt.show()"
   ]
  },
  {
   "cell_type": "code",
   "execution_count": 154,
   "metadata": {},
   "outputs": [
    {
     "name": "stdout",
     "output_type": "stream",
     "text": [
      "Unique values in signals_test: [-1  0  1]\n",
      "Unique values in signals_pred: [0]\n"
     ]
    }
   ],
   "source": [
    "print(\"Unique values in signals_test:\", np.unique(signals_test))\n",
    "print(\"Unique values in signals_pred:\", np.unique(signals_pred))"
   ]
  },
  {
   "cell_type": "code",
   "execution_count": 155,
   "metadata": {},
   "outputs": [
    {
     "name": "stdout",
     "output_type": "stream",
     "text": [
      "              precision    recall  f1-score   support\n",
      "\n",
      "          -1       0.00      0.00      0.00      1994\n",
      "           0       0.93      1.00      0.96     54270\n",
      "           1       0.00      0.00      0.00      2253\n",
      "\n",
      "    accuracy                           0.93     58517\n",
      "   macro avg       0.31      0.33      0.32     58517\n",
      "weighted avg       0.86      0.93      0.89     58517\n",
      "\n"
     ]
    },
    {
     "name": "stderr",
     "output_type": "stream",
     "text": [
      "/opt/anaconda3/envs/Universal/lib/python3.9/site-packages/sklearn/metrics/_classification.py:1565: UndefinedMetricWarning: Precision is ill-defined and being set to 0.0 in labels with no predicted samples. Use `zero_division` parameter to control this behavior.\n",
      "  _warn_prf(average, modifier, f\"{metric.capitalize()} is\", len(result))\n",
      "/opt/anaconda3/envs/Universal/lib/python3.9/site-packages/sklearn/metrics/_classification.py:1565: UndefinedMetricWarning: Precision is ill-defined and being set to 0.0 in labels with no predicted samples. Use `zero_division` parameter to control this behavior.\n",
      "  _warn_prf(average, modifier, f\"{metric.capitalize()} is\", len(result))\n",
      "/opt/anaconda3/envs/Universal/lib/python3.9/site-packages/sklearn/metrics/_classification.py:1565: UndefinedMetricWarning: Precision is ill-defined and being set to 0.0 in labels with no predicted samples. Use `zero_division` parameter to control this behavior.\n",
      "  _warn_prf(average, modifier, f\"{metric.capitalize()} is\", len(result))\n"
     ]
    }
   ],
   "source": [
    "from sklearn.metrics import classification_report\n",
    "print(classification_report(y_pred=signals_pred, y_true=signals_test, labels=[-1, 0, 1]))\n"
   ]
  },
  {
   "cell_type": "code",
   "execution_count": null,
   "metadata": {},
   "outputs": [],
   "source": []
  }
 ],
 "metadata": {
  "kernelspec": {
   "display_name": "Universal",
   "language": "python",
   "name": "python3"
  },
  "language_info": {
   "codemirror_mode": {
    "name": "ipython",
    "version": 3
   },
   "file_extension": ".py",
   "mimetype": "text/x-python",
   "name": "python",
   "nbconvert_exporter": "python",
   "pygments_lexer": "ipython3",
   "version": "3.9.18"
  }
 },
 "nbformat": 4,
 "nbformat_minor": 2
}
